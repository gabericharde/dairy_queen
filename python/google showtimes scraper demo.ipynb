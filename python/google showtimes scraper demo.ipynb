{
 "cells": [
  {
   "cell_type": "code",
   "execution_count": 1,
   "metadata": {
    "collapsed": true
   },
   "outputs": [],
   "source": [
    "import google_showtimes_scraper as gss"
   ]
  },
  {
   "cell_type": "code",
   "execution_count": 2,
   "metadata": {
    "collapsed": false
   },
   "outputs": [],
   "source": [
    "demo = gss.extract_all_theatres_and_showtimes(near = 'quebec city', days_from_now = '5')"
   ]
  },
  {
   "cell_type": "code",
   "execution_count": 3,
   "metadata": {
    "collapsed": false,
    "scrolled": true
   },
   "outputs": [
    {
     "name": "stdout",
     "output_type": "stream",
     "text": [
      "[{'address': '825 rue Clémenceau, Beauport, QC, Canada',\n",
      "  'name': 'Cineplex Odeon Beauport Cinemas',\n",
      "  'phone_number': '(418) 661-9494',\n",
      "  'program': [{'mid': 'd0c993ae4f236529',\n",
      "               'misc_info': 'English - Trailer - IMDb',\n",
      "               'name': 'Deadpool',\n",
      "               'rating': 'Action/Adventure/Scifi/Fantasy',\n",
      "               'runtime': 107,\n",
      "               'showtimes': ['12:35', '3:00', '5:25', '7:50', '10:15'],\n",
      "               'url': '/movies?date=5&near=quebec+city&mid=d0c993ae4f236529',\n",
      "               'warning_thrown': False},\n",
      "              {'mid': '824fc6ab64efead3',\n",
      "               'misc_info': 'English - Trailer - IMDb',\n",
      "               'name': 'Zoolander 2',\n",
      "               'rating': 'Comedy',\n",
      "               'runtime': 100,\n",
      "               'showtimes': ['12:45', '3:10', '5:30', '7:50', '10:10'],\n",
      "               'url': '/movies?date=5&near=quebec+city&mid=824fc6ab64efead3',\n",
      "               'warning_thrown': False},\n",
      "              {'mid': 'e65f11b56eee1b30',\n",
      "               'misc_info': 'Comedy/Romance - English - Trailer - IMDb',\n",
      "               'name': 'How to Be Single',\n",
      "               'rating': 'Rated 13+',\n",
      "               'runtime': 110,\n",
      "               'showtimes': ['1:00', '3:30', '6:45', '9:15'],\n",
      "               'url': '/movies?date=5&near=quebec+city&mid=e65f11b56eee1b30',\n",
      "               'warning_thrown': False}],\n",
      "  'tid': 'b10bad25b2d56ba4',\n",
      "  'url': '/movies?date=5&near=quebec+city&tid=b10bad25b2d56ba4',\n",
      "  'warning_thrown': False},\n",
      " {'address': '1200 autoroute Duplessis, Sainte-Foy, QC, Canada',\n",
      "  'name': 'Cineplex Odeon Sainte-Foy Cinemas',\n",
      "  'phone_number': '(418) 871-1550',\n",
      "  'program': [{'mid': 'd0c993ae4f236529',\n",
      "               'misc_info': 'English - Trailer - IMDb',\n",
      "               'name': 'Deadpool',\n",
      "               'rating': 'Action/Adventure/Scifi/Fantasy',\n",
      "               'runtime': 107,\n",
      "               'showtimes': ['11:40',\n",
      "                             '12:00',\n",
      "                             '2:20',\n",
      "                             '2:40',\n",
      "                             '5:00',\n",
      "                             '5:20',\n",
      "                             '7:40',\n",
      "                             '8:00',\n",
      "                             '10:20',\n",
      "                             '10:40'],\n",
      "               'url': '/movies?date=5&near=quebec+city&mid=d0c993ae4f236529',\n",
      "               'warning_thrown': False},\n",
      "              {'mid': '824fc6ab64efead3',\n",
      "               'misc_info': 'English - Trailer - IMDb',\n",
      "               'name': 'Zoolander 2',\n",
      "               'rating': 'Comedy',\n",
      "               'runtime': 100,\n",
      "               'showtimes': ['12:30', '3:05', '5:35', '8:05', '10:40'],\n",
      "               'url': '/movies?date=5&near=quebec+city&mid=824fc6ab64efead3',\n",
      "               'warning_thrown': False},\n",
      "              {'mid': 'e65f11b56eee1b30',\n",
      "               'misc_info': 'Comedy/Romance - English - Trailer - IMDb',\n",
      "               'name': 'How to Be Single',\n",
      "               'rating': 'Rated 13+',\n",
      "               'runtime': 110,\n",
      "               'showtimes': ['2:30', '5:10', '7:50', '10:30'],\n",
      "               'url': '/movies?date=5&near=quebec+city&mid=e65f11b56eee1b30',\n",
      "               'warning_thrown': False}],\n",
      "  'tid': 'de2c3c707f068b05',\n",
      "  'url': '/movies?date=5&near=quebec+city&tid=de2c3c707f068b05',\n",
      "  'warning_thrown': False}]\n"
     ]
    }
   ],
   "source": [
    "import pprint # https://docs.python.org/3.5/library/pprint.html\n",
    "pprint.pprint(demo)"
   ]
  },
  {
   "cell_type": "code",
   "execution_count": 4,
   "metadata": {
    "collapsed": false
   },
   "outputs": [
    {
     "data": {
      "text/plain": [
       "['BeautifulSoup',\n",
       " '__builtins__',\n",
       " '__cached__',\n",
       " '__doc__',\n",
       " '__file__',\n",
       " '__loader__',\n",
       " '__name__',\n",
       " '__package__',\n",
       " '__spec__',\n",
       " 'extract_all_theatres_and_showtimes',\n",
       " 'extract_next_page_url',\n",
       " 'extract_theatres_and_showtimes',\n",
       " 're',\n",
       " 'requests',\n",
       " 'warnings']"
      ]
     },
     "execution_count": 4,
     "metadata": {},
     "output_type": "execute_result"
    }
   ],
   "source": [
    "dir(gss)"
   ]
  }
 ],
 "metadata": {
  "kernelspec": {
   "display_name": "Python 3",
   "language": "python",
   "name": "python3"
  },
  "language_info": {
   "codemirror_mode": {
    "name": "ipython",
    "version": 3
   },
   "file_extension": ".py",
   "mimetype": "text/x-python",
   "name": "python",
   "nbconvert_exporter": "python",
   "pygments_lexer": "ipython3",
   "version": "3.5.1"
  }
 },
 "nbformat": 4,
 "nbformat_minor": 0
}
