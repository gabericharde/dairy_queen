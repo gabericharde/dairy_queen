{
 "cells": [
  {
   "cell_type": "code",
   "execution_count": 1,
   "metadata": {
    "collapsed": true
   },
   "outputs": [],
   "source": [
    "import numpy as np\n",
    "import pandas as pd\n",
    "import datetime\n",
    "import time\n",
    "import itertools\n",
    "import json\n",
    "import urllib\n",
    "import double_dip\n",
    "import re\n",
    "from IPython.display import Markdown, display"
   ]
  },
  {
   "cell_type": "markdown",
   "metadata": {},
   "source": [
    "# ↘ Start here! ↙\n",
    "\n",
    "\n",
    "### Parameters:\n",
    "- `days_from_now` -- an integer value between 0 and 4. This will dictate which showtimes are retrieved. ***NOTE:*** this is now deprecated due to Kimonolabs' changes to their freemium model.\n",
    "- `ads_mins` -- an integer value indicating how many minutes of ads you think are run before each movie. My experience with Cinestar says that ~ 10 minutes of ads is what you'll experience.\n",
    "- `trailers_mins` -- an integer value indicating how many minutes of trailers you think will be run before each movie. This varies between Movies and Cinemas... I tried to set the default to something reasonable (10 minutes).\n",
    "- `max_waiting_mins` -- an integer value indicating how long you're willing to wait between the (estimated) end of a film and and the start time of the next film. \n",
    "- `acceptable_overlap_mins` -- an integer value indicating how much overlap between the end of a film and the start of the next film is 'acceptable'. Set this value to something above 0 when you're willing to miss the last bit of a  film, or the start of another film.\n",
    "- `movies_to_exclude` -- A string or list of strings giving partial matches of titles of movies you're _NOT_ interesting in seeing. E.g., `['Alles', 'Mars']` will partially match to _Alles Steht Kopf_ and _Der Marsianer - Rettet Mark Watney_, and thus both films will be excluded from any double dip considerations.\n",
    "- `interesting_movies`-- A string or list of strings giving partial matches of titles of movies you _ARE_ interested in seeing.\n",
    "- `all_interesting_movies_must_be_in_dip` -- a boolean indicating how calculated double dips should be filtered, in the presence of `interesting_movies`. E.g. if\n",
    "    ```\n",
    "    interesting_movies = ['Spec', 'Der']\n",
    "    ```\n",
    "    and `all_interesting_movies_must_be_in_dip=True`, then only dips that include matches for \"Spec\" and \"Der\" will be included. If `all_interesting_movies_must_be_in_dip=False` included dips only have to match at least one of \"Spec\", or \"Der\". \n",
    "    \n",
    "### Notes\n",
    "- Once you've tweaked your parameters, just goto the `Cell` menu and select `Run All`\n",
    "- If you need to _re-run_ the program, ***do not*** re-`Run All`. Instead:\n",
    "    1. re-run the cell with all the parameters\n",
    "    2. goto the cell with `double_dip.find_all_double_dips` (the cell above the 'Double Dips' section), and re-run that\n",
    "  \n",
    "  If you don't do this, you'll have to wait around will the program REscrapes showtime information, which is needlessly redundant.\n"
   ]
  },
  {
   "cell_type": "code",
   "execution_count": 2,
   "metadata": {
    "collapsed": true
   },
   "outputs": [],
   "source": [
    "days_from_now = 0 # deprecated since Kimono stopped allowing ondemand APIs\n",
    "ads_mins=10\n",
    "trailers_mins=10\n",
    "max_waiting_mins=45\n",
    "acceptable_overlap_mins=0\n",
    "movies_to_exclude=['Spectre'] #set to None to disable\n",
    "interesting_movies=['Bridge of Spies'] # set to None to disable\n",
    "all_interesting_movies_must_be_in_dip=False # consider any dip that has at least one of the interesting movies"
   ]
  },
  {
   "cell_type": "markdown",
   "metadata": {},
   "source": [
    "# ↗ Start here! ↖\n",
    "\n",
    "<br/>\n",
    "_Now go to `Cell`, and click `Run All`..._\n"
   ]
  },
  {
   "cell_type": "code",
   "execution_count": 3,
   "metadata": {
    "collapsed": true
   },
   "outputs": [],
   "source": [
    "# hit kimono-made Cinestar showtimes API\n",
    "api_endpoint = 'http://www.kimonolabs.com/api/9q0fwoh2?apikey=2GuGNJHoWhVjhlu4yTXWyyTi8a1o8ybM&kimmodify=1'\n",
    "api_endpoint = api_endpoint + '&date=' + str(days_from_now) # the data parameter is currently inoperative\n",
    "results = json.load(urllib.urlopen(api_endpoint))"
   ]
  },
  {
   "cell_type": "code",
   "execution_count": 4,
   "metadata": {
    "collapsed": true
   },
   "outputs": [],
   "source": [
    "if not results['results']:\n",
    "    display(Markdown('## _Error:_ Either there are no showings for your day, or you\\'ve hit the API too many times...'+\\\n",
    "                     ' Try changing `days_from_now` and re-running?...'))\n",
    "    print results\n",
    "\n",
    "kino_program = double_dip.make_showtimes(results,\n",
    "                                         ads_mins=ads_mins,\n",
    "                                         trailers_mins=trailers_mins)"
   ]
  },
  {
   "cell_type": "code",
   "execution_count": 5,
   "metadata": {
    "collapsed": true
   },
   "outputs": [],
   "source": [
    "double_dips = \\\n",
    "double_dip.find_all_double_dips(kino_program,\n",
    "                                max_waiting_mins=max_waiting_mins,\n",
    "                                acceptable_overlap_mins=acceptable_overlap_mins,\n",
    "                                movies_to_exclude=movies_to_exclude,\n",
    "                                interesting_movies=interesting_movies,\n",
    "                                all_interesting_movies_must_be_in_dip=all_interesting_movies_must_be_in_dip)"
   ]
  },
  {
   "cell_type": "markdown",
   "metadata": {},
   "source": [
    "# Double Dips:"
   ]
  },
  {
   "cell_type": "code",
   "execution_count": 6,
   "metadata": {
    "collapsed": false
   },
   "outputs": [
    {
     "data": {
      "text/markdown": [
       "- Bridge of Spies - Der Unterhändler (OV) (15:45-18:27)"
      ],
      "text/plain": [
       "<IPython.core.display.Markdown object>"
      ]
     },
     "metadata": {},
     "output_type": "display_data"
    },
    {
     "data": {
      "text/markdown": [
       "- Arlo & Spot (OV) (11:30-13:24) -> Carol (OV) (13:35-15:54) -> Bridge of Spies - Der Unterhändler (OV) (15:45-18:27)"
      ],
      "text/plain": [
       "<IPython.core.display.Markdown object>"
      ]
     },
     "metadata": {},
     "output_type": "display_data"
    },
    {
     "data": {
      "text/markdown": [
       "- Arlo & Spot (OV) (11:30-13:24) -> Der kleine Prinz (OV) (13:30-15:37) -> Bridge of Spies - Der Unterhändler (OV) (15:45-18:27)"
      ],
      "text/plain": [
       "<IPython.core.display.Markdown object>"
      ]
     },
     "metadata": {},
     "output_type": "display_data"
    },
    {
     "data": {
      "text/markdown": [
       "- Carol (OV) (13:35-15:54) -> Bridge of Spies - Der Unterhändler (OV) (15:45-18:27)"
      ],
      "text/plain": [
       "<IPython.core.display.Markdown object>"
      ]
     },
     "metadata": {},
     "output_type": "display_data"
    },
    {
     "data": {
      "text/markdown": [
       "- Der kleine Prinz (OV) (11:00-13:07) -> Star Wars: Das Erwachen der Macht (OV) (13:00-15:35) -> Bridge of Spies - Der Unterhändler (OV) (15:45-18:27)"
      ],
      "text/plain": [
       "<IPython.core.display.Markdown object>"
      ]
     },
     "metadata": {},
     "output_type": "display_data"
    },
    {
     "data": {
      "text/markdown": [
       "- Der kleine Prinz (OV) (13:30-15:37) -> Bridge of Spies - Der Unterhändler (OV) (15:45-18:27)"
      ],
      "text/plain": [
       "<IPython.core.display.Markdown object>"
      ]
     },
     "metadata": {},
     "output_type": "display_data"
    },
    {
     "data": {
      "text/markdown": [
       "- Die Tribute von Panem - Mockingjay, Teil 2 (OV) (11:15-13:52) -> Carol (OV) (13:35-15:54) -> Bridge of Spies - Der Unterhändler (OV) (15:45-18:27)"
      ],
      "text/plain": [
       "<IPython.core.display.Markdown object>"
      ]
     },
     "metadata": {},
     "output_type": "display_data"
    },
    {
     "data": {
      "text/markdown": [
       "- Mr. Holmes (OV) (11:00-13:04) -> Star Wars: Das Erwachen der Macht (OV) (13:00-15:35) -> Bridge of Spies - Der Unterhändler (OV) (15:45-18:27)"
      ],
      "text/plain": [
       "<IPython.core.display.Markdown object>"
      ]
     },
     "metadata": {},
     "output_type": "display_data"
    },
    {
     "data": {
      "text/markdown": [
       "- Die Peanuts - Der Film (OV) (11:00-12:49) -> Star Wars: Das Erwachen der Macht (OV) (13:00-15:35) -> Bridge of Spies - Der Unterhändler (OV) (15:45-18:27)"
      ],
      "text/plain": [
       "<IPython.core.display.Markdown object>"
      ]
     },
     "metadata": {},
     "output_type": "display_data"
    },
    {
     "data": {
      "text/markdown": [
       "- Star Wars: Das Erwachen der Macht (OV) (11:00-13:35) -> Carol (OV) (13:35-15:54) -> Bridge of Spies - Der Unterhändler (OV) (15:45-18:27)"
      ],
      "text/plain": [
       "<IPython.core.display.Markdown object>"
      ]
     },
     "metadata": {},
     "output_type": "display_data"
    },
    {
     "data": {
      "text/markdown": [
       "- Star Wars: Das Erwachen der Macht (OV) (11:00-13:35) -> Der kleine Prinz (OV) (13:30-15:37) -> Bridge of Spies - Der Unterhändler (OV) (15:45-18:27)"
      ],
      "text/plain": [
       "<IPython.core.display.Markdown object>"
      ]
     },
     "metadata": {},
     "output_type": "display_data"
    },
    {
     "data": {
      "text/markdown": [
       "- Star Wars: Das Erwachen der Macht (OV) (13:00-15:35) -> Bridge of Spies - Der Unterhändler (OV) (15:45-18:27)"
      ],
      "text/plain": [
       "<IPython.core.display.Markdown object>"
      ]
     },
     "metadata": {},
     "output_type": "display_data"
    }
   ],
   "source": [
    "tmp = [display(Markdown('- ' + dip)) for dip in double_dips]"
   ]
  },
  {
   "cell_type": "code",
   "execution_count": 16,
   "metadata": {
    "collapsed": false
   },
   "outputs": [
    {
     "data": {
      "text/markdown": [
       "# Program for _Friday, December 25, 2015_"
      ],
      "text/plain": [
       "<IPython.core.display.Markdown object>"
      ]
     },
     "metadata": {},
     "output_type": "display_data"
    },
    {
     "data": {
      "text/html": [
       "<div>\n",
       "<table border=\"1\" class=\"dataframe\">\n",
       "  <thead>\n",
       "    <tr style=\"text-align: right;\">\n",
       "      <th></th>\n",
       "      <th>movie_end_time</th>\n",
       "      <th>movie_start_time</th>\n",
       "      <th>start_time</th>\n",
       "      <th>title</th>\n",
       "    </tr>\n",
       "  </thead>\n",
       "  <tbody>\n",
       "    <tr>\n",
       "      <th>0</th>\n",
       "      <td>1900-01-01 18:27:00</td>\n",
       "      <td>1900-01-01 16:05:00</td>\n",
       "      <td>1900-01-01 15:45:00</td>\n",
       "      <td>Bridge of Spies - Der Unterhändler (OV)</td>\n",
       "    </tr>\n",
       "    <tr>\n",
       "      <th>1</th>\n",
       "      <td>1900-01-01 13:24:00</td>\n",
       "      <td>1900-01-01 11:50:00</td>\n",
       "      <td>1900-01-01 11:30:00</td>\n",
       "      <td>Arlo &amp; Spot (OV)</td>\n",
       "    </tr>\n",
       "    <tr>\n",
       "      <th>2</th>\n",
       "      <td>1900-01-01 23:52:00</td>\n",
       "      <td>1900-01-01 21:50:00</td>\n",
       "      <td>1900-01-01 21:30:00</td>\n",
       "      <td>Im Herzen der See (OV)</td>\n",
       "    </tr>\n",
       "    <tr>\n",
       "      <th>3</th>\n",
       "      <td>1900-01-01 18:48:00</td>\n",
       "      <td>1900-01-01 16:20:00</td>\n",
       "      <td>1900-01-01 16:00:00</td>\n",
       "      <td>Spectre (OV)</td>\n",
       "    </tr>\n",
       "    <tr>\n",
       "      <th>4</th>\n",
       "      <td>1900-01-01 22:08:00</td>\n",
       "      <td>1900-01-01 19:40:00</td>\n",
       "      <td>1900-01-01 19:20:00</td>\n",
       "      <td>Spectre (OV)</td>\n",
       "    </tr>\n",
       "    <tr>\n",
       "      <th>5</th>\n",
       "      <td>1900-01-02 00:58:00</td>\n",
       "      <td>1900-01-01 23:20:00</td>\n",
       "      <td>1900-01-01 23:00:00</td>\n",
       "      <td>Krampus (OV)</td>\n",
       "    </tr>\n",
       "    <tr>\n",
       "      <th>6</th>\n",
       "      <td>1900-01-01 15:54:00</td>\n",
       "      <td>1900-01-01 13:55:00</td>\n",
       "      <td>1900-01-01 13:35:00</td>\n",
       "      <td>Carol (OV)</td>\n",
       "    </tr>\n",
       "    <tr>\n",
       "      <th>7</th>\n",
       "      <td>1900-01-01 21:49:00</td>\n",
       "      <td>1900-01-01 19:50:00</td>\n",
       "      <td>1900-01-01 19:30:00</td>\n",
       "      <td>Carol (OV)</td>\n",
       "    </tr>\n",
       "    <tr>\n",
       "      <th>8</th>\n",
       "      <td>1900-01-01 13:07:00</td>\n",
       "      <td>1900-01-01 11:20:00</td>\n",
       "      <td>1900-01-01 11:00:00</td>\n",
       "      <td>Der kleine Prinz (OV)</td>\n",
       "    </tr>\n",
       "    <tr>\n",
       "      <th>9</th>\n",
       "      <td>1900-01-01 15:37:00</td>\n",
       "      <td>1900-01-01 13:50:00</td>\n",
       "      <td>1900-01-01 13:30:00</td>\n",
       "      <td>Der kleine Prinz (OV)</td>\n",
       "    </tr>\n",
       "    <tr>\n",
       "      <th>10</th>\n",
       "      <td>1900-01-01 13:52:00</td>\n",
       "      <td>1900-01-01 11:35:00</td>\n",
       "      <td>1900-01-01 11:15:00</td>\n",
       "      <td>Die Tribute von Panem - Mockingjay, Teil 2 (OV)</td>\n",
       "    </tr>\n",
       "    <tr>\n",
       "      <th>11</th>\n",
       "      <td>1900-01-01 21:37:00</td>\n",
       "      <td>1900-01-01 19:20:00</td>\n",
       "      <td>1900-01-01 19:00:00</td>\n",
       "      <td>Die Tribute von Panem - Mockingjay, Teil 2 (OV)</td>\n",
       "    </tr>\n",
       "    <tr>\n",
       "      <th>12</th>\n",
       "      <td>1900-01-02 00:52:00</td>\n",
       "      <td>1900-01-01 22:35:00</td>\n",
       "      <td>1900-01-01 22:15:00</td>\n",
       "      <td>Die Tribute von Panem - Mockingjay, Teil 2 (OV)</td>\n",
       "    </tr>\n",
       "    <tr>\n",
       "      <th>13</th>\n",
       "      <td>1900-01-01 13:04:00</td>\n",
       "      <td>1900-01-01 11:20:00</td>\n",
       "      <td>1900-01-01 11:00:00</td>\n",
       "      <td>Mr. Holmes (OV)</td>\n",
       "    </tr>\n",
       "    <tr>\n",
       "      <th>14</th>\n",
       "      <td>1900-01-01 18:29:00</td>\n",
       "      <td>1900-01-01 16:45:00</td>\n",
       "      <td>1900-01-01 16:25:00</td>\n",
       "      <td>Mr. Holmes (OV)</td>\n",
       "    </tr>\n",
       "    <tr>\n",
       "      <th>15</th>\n",
       "      <td>1900-01-01 12:49:00</td>\n",
       "      <td>1900-01-01 11:20:00</td>\n",
       "      <td>1900-01-01 11:00:00</td>\n",
       "      <td>Die Peanuts - Der Film (OV)</td>\n",
       "    </tr>\n",
       "    <tr>\n",
       "      <th>16</th>\n",
       "      <td>1900-01-01 15:19:00</td>\n",
       "      <td>1900-01-01 13:50:00</td>\n",
       "      <td>1900-01-01 13:30:00</td>\n",
       "      <td>Die Peanuts - Der Film (OV)</td>\n",
       "    </tr>\n",
       "    <tr>\n",
       "      <th>17</th>\n",
       "      <td>1900-01-01 16:19:00</td>\n",
       "      <td>1900-01-01 14:50:00</td>\n",
       "      <td>1900-01-01 14:30:00</td>\n",
       "      <td>Die Peanuts - Der Film (OV)</td>\n",
       "    </tr>\n",
       "    <tr>\n",
       "      <th>18</th>\n",
       "      <td>1900-01-01 19:04:00</td>\n",
       "      <td>1900-01-01 17:35:00</td>\n",
       "      <td>1900-01-01 17:15:00</td>\n",
       "      <td>Die Peanuts - Der Film (OV)</td>\n",
       "    </tr>\n",
       "    <tr>\n",
       "      <th>19</th>\n",
       "      <td>1900-01-01 20:49:00</td>\n",
       "      <td>1900-01-01 19:20:00</td>\n",
       "      <td>1900-01-01 19:00:00</td>\n",
       "      <td>Die Peanuts - Der Film (OV)</td>\n",
       "    </tr>\n",
       "    <tr>\n",
       "      <th>20</th>\n",
       "      <td>1900-01-01 13:35:00</td>\n",
       "      <td>1900-01-01 11:20:00</td>\n",
       "      <td>1900-01-01 11:00:00</td>\n",
       "      <td>Star Wars: Das Erwachen der Macht (OV)</td>\n",
       "    </tr>\n",
       "    <tr>\n",
       "      <th>21</th>\n",
       "      <td>1900-01-01 14:35:00</td>\n",
       "      <td>1900-01-01 12:20:00</td>\n",
       "      <td>1900-01-01 12:00:00</td>\n",
       "      <td>Star Wars: Das Erwachen der Macht (OV)</td>\n",
       "    </tr>\n",
       "    <tr>\n",
       "      <th>22</th>\n",
       "      <td>1900-01-01 15:35:00</td>\n",
       "      <td>1900-01-01 13:20:00</td>\n",
       "      <td>1900-01-01 13:00:00</td>\n",
       "      <td>Star Wars: Das Erwachen der Macht (OV)</td>\n",
       "    </tr>\n",
       "    <tr>\n",
       "      <th>23</th>\n",
       "      <td>1900-01-01 16:35:00</td>\n",
       "      <td>1900-01-01 14:20:00</td>\n",
       "      <td>1900-01-01 14:00:00</td>\n",
       "      <td>Star Wars: Das Erwachen der Macht (OV)</td>\n",
       "    </tr>\n",
       "    <tr>\n",
       "      <th>24</th>\n",
       "      <td>1900-01-01 17:05:00</td>\n",
       "      <td>1900-01-01 14:50:00</td>\n",
       "      <td>1900-01-01 14:30:00</td>\n",
       "      <td>Star Wars: Das Erwachen der Macht (OV)</td>\n",
       "    </tr>\n",
       "    <tr>\n",
       "      <th>25</th>\n",
       "      <td>1900-01-01 18:05:00</td>\n",
       "      <td>1900-01-01 15:50:00</td>\n",
       "      <td>1900-01-01 15:30:00</td>\n",
       "      <td>Star Wars: Das Erwachen der Macht (OV)</td>\n",
       "    </tr>\n",
       "    <tr>\n",
       "      <th>26</th>\n",
       "      <td>1900-01-01 19:05:00</td>\n",
       "      <td>1900-01-01 16:50:00</td>\n",
       "      <td>1900-01-01 16:30:00</td>\n",
       "      <td>Star Wars: Das Erwachen der Macht (OV)</td>\n",
       "    </tr>\n",
       "    <tr>\n",
       "      <th>27</th>\n",
       "      <td>1900-01-01 19:35:00</td>\n",
       "      <td>1900-01-01 17:20:00</td>\n",
       "      <td>1900-01-01 17:00:00</td>\n",
       "      <td>Star Wars: Das Erwachen der Macht (OV)</td>\n",
       "    </tr>\n",
       "    <tr>\n",
       "      <th>28</th>\n",
       "      <td>1900-01-01 20:35:00</td>\n",
       "      <td>1900-01-01 18:20:00</td>\n",
       "      <td>1900-01-01 18:00:00</td>\n",
       "      <td>Star Wars: Das Erwachen der Macht (OV)</td>\n",
       "    </tr>\n",
       "    <tr>\n",
       "      <th>29</th>\n",
       "      <td>1900-01-01 22:05:00</td>\n",
       "      <td>1900-01-01 19:50:00</td>\n",
       "      <td>1900-01-01 19:30:00</td>\n",
       "      <td>Star Wars: Das Erwachen der Macht (OV)</td>\n",
       "    </tr>\n",
       "    <tr>\n",
       "      <th>30</th>\n",
       "      <td>1900-01-01 22:35:00</td>\n",
       "      <td>1900-01-01 20:20:00</td>\n",
       "      <td>1900-01-01 20:00:00</td>\n",
       "      <td>Star Wars: Das Erwachen der Macht (OV)</td>\n",
       "    </tr>\n",
       "    <tr>\n",
       "      <th>31</th>\n",
       "      <td>1900-01-01 23:05:00</td>\n",
       "      <td>1900-01-01 20:50:00</td>\n",
       "      <td>1900-01-01 20:30:00</td>\n",
       "      <td>Star Wars: Das Erwachen der Macht (OV)</td>\n",
       "    </tr>\n",
       "    <tr>\n",
       "      <th>32</th>\n",
       "      <td>1900-01-02 00:05:00</td>\n",
       "      <td>1900-01-01 21:50:00</td>\n",
       "      <td>1900-01-01 21:30:00</td>\n",
       "      <td>Star Wars: Das Erwachen der Macht (OV)</td>\n",
       "    </tr>\n",
       "    <tr>\n",
       "      <th>33</th>\n",
       "      <td>1900-01-02 01:05:00</td>\n",
       "      <td>1900-01-01 22:50:00</td>\n",
       "      <td>1900-01-01 22:30:00</td>\n",
       "      <td>Star Wars: Das Erwachen der Macht (OV)</td>\n",
       "    </tr>\n",
       "    <tr>\n",
       "      <th>34</th>\n",
       "      <td>1900-01-02 01:35:00</td>\n",
       "      <td>1900-01-01 23:20:00</td>\n",
       "      <td>1900-01-01 23:00:00</td>\n",
       "      <td>Star Wars: Das Erwachen der Macht (OV)</td>\n",
       "    </tr>\n",
       "  </tbody>\n",
       "</table>\n",
       "</div>"
      ],
      "text/plain": [
       "        movie_end_time    movie_start_time          start_time  \\\n",
       "0  1900-01-01 18:27:00 1900-01-01 16:05:00 1900-01-01 15:45:00   \n",
       "1  1900-01-01 13:24:00 1900-01-01 11:50:00 1900-01-01 11:30:00   \n",
       "2  1900-01-01 23:52:00 1900-01-01 21:50:00 1900-01-01 21:30:00   \n",
       "3  1900-01-01 18:48:00 1900-01-01 16:20:00 1900-01-01 16:00:00   \n",
       "4  1900-01-01 22:08:00 1900-01-01 19:40:00 1900-01-01 19:20:00   \n",
       "5  1900-01-02 00:58:00 1900-01-01 23:20:00 1900-01-01 23:00:00   \n",
       "6  1900-01-01 15:54:00 1900-01-01 13:55:00 1900-01-01 13:35:00   \n",
       "7  1900-01-01 21:49:00 1900-01-01 19:50:00 1900-01-01 19:30:00   \n",
       "8  1900-01-01 13:07:00 1900-01-01 11:20:00 1900-01-01 11:00:00   \n",
       "9  1900-01-01 15:37:00 1900-01-01 13:50:00 1900-01-01 13:30:00   \n",
       "10 1900-01-01 13:52:00 1900-01-01 11:35:00 1900-01-01 11:15:00   \n",
       "11 1900-01-01 21:37:00 1900-01-01 19:20:00 1900-01-01 19:00:00   \n",
       "12 1900-01-02 00:52:00 1900-01-01 22:35:00 1900-01-01 22:15:00   \n",
       "13 1900-01-01 13:04:00 1900-01-01 11:20:00 1900-01-01 11:00:00   \n",
       "14 1900-01-01 18:29:00 1900-01-01 16:45:00 1900-01-01 16:25:00   \n",
       "15 1900-01-01 12:49:00 1900-01-01 11:20:00 1900-01-01 11:00:00   \n",
       "16 1900-01-01 15:19:00 1900-01-01 13:50:00 1900-01-01 13:30:00   \n",
       "17 1900-01-01 16:19:00 1900-01-01 14:50:00 1900-01-01 14:30:00   \n",
       "18 1900-01-01 19:04:00 1900-01-01 17:35:00 1900-01-01 17:15:00   \n",
       "19 1900-01-01 20:49:00 1900-01-01 19:20:00 1900-01-01 19:00:00   \n",
       "20 1900-01-01 13:35:00 1900-01-01 11:20:00 1900-01-01 11:00:00   \n",
       "21 1900-01-01 14:35:00 1900-01-01 12:20:00 1900-01-01 12:00:00   \n",
       "22 1900-01-01 15:35:00 1900-01-01 13:20:00 1900-01-01 13:00:00   \n",
       "23 1900-01-01 16:35:00 1900-01-01 14:20:00 1900-01-01 14:00:00   \n",
       "24 1900-01-01 17:05:00 1900-01-01 14:50:00 1900-01-01 14:30:00   \n",
       "25 1900-01-01 18:05:00 1900-01-01 15:50:00 1900-01-01 15:30:00   \n",
       "26 1900-01-01 19:05:00 1900-01-01 16:50:00 1900-01-01 16:30:00   \n",
       "27 1900-01-01 19:35:00 1900-01-01 17:20:00 1900-01-01 17:00:00   \n",
       "28 1900-01-01 20:35:00 1900-01-01 18:20:00 1900-01-01 18:00:00   \n",
       "29 1900-01-01 22:05:00 1900-01-01 19:50:00 1900-01-01 19:30:00   \n",
       "30 1900-01-01 22:35:00 1900-01-01 20:20:00 1900-01-01 20:00:00   \n",
       "31 1900-01-01 23:05:00 1900-01-01 20:50:00 1900-01-01 20:30:00   \n",
       "32 1900-01-02 00:05:00 1900-01-01 21:50:00 1900-01-01 21:30:00   \n",
       "33 1900-01-02 01:05:00 1900-01-01 22:50:00 1900-01-01 22:30:00   \n",
       "34 1900-01-02 01:35:00 1900-01-01 23:20:00 1900-01-01 23:00:00   \n",
       "\n",
       "                                              title  \n",
       "0           Bridge of Spies - Der Unterhändler (OV)  \n",
       "1                                  Arlo & Spot (OV)  \n",
       "2                            Im Herzen der See (OV)  \n",
       "3                                      Spectre (OV)  \n",
       "4                                      Spectre (OV)  \n",
       "5                                      Krampus (OV)  \n",
       "6                                        Carol (OV)  \n",
       "7                                        Carol (OV)  \n",
       "8                             Der kleine Prinz (OV)  \n",
       "9                             Der kleine Prinz (OV)  \n",
       "10  Die Tribute von Panem - Mockingjay, Teil 2 (OV)  \n",
       "11  Die Tribute von Panem - Mockingjay, Teil 2 (OV)  \n",
       "12  Die Tribute von Panem - Mockingjay, Teil 2 (OV)  \n",
       "13                                  Mr. Holmes (OV)  \n",
       "14                                  Mr. Holmes (OV)  \n",
       "15                      Die Peanuts - Der Film (OV)  \n",
       "16                      Die Peanuts - Der Film (OV)  \n",
       "17                      Die Peanuts - Der Film (OV)  \n",
       "18                      Die Peanuts - Der Film (OV)  \n",
       "19                      Die Peanuts - Der Film (OV)  \n",
       "20           Star Wars: Das Erwachen der Macht (OV)  \n",
       "21           Star Wars: Das Erwachen der Macht (OV)  \n",
       "22           Star Wars: Das Erwachen der Macht (OV)  \n",
       "23           Star Wars: Das Erwachen der Macht (OV)  \n",
       "24           Star Wars: Das Erwachen der Macht (OV)  \n",
       "25           Star Wars: Das Erwachen der Macht (OV)  \n",
       "26           Star Wars: Das Erwachen der Macht (OV)  \n",
       "27           Star Wars: Das Erwachen der Macht (OV)  \n",
       "28           Star Wars: Das Erwachen der Macht (OV)  \n",
       "29           Star Wars: Das Erwachen der Macht (OV)  \n",
       "30           Star Wars: Das Erwachen der Macht (OV)  \n",
       "31           Star Wars: Das Erwachen der Macht (OV)  \n",
       "32           Star Wars: Das Erwachen der Macht (OV)  \n",
       "33           Star Wars: Das Erwachen der Macht (OV)  \n",
       "34           Star Wars: Das Erwachen der Macht (OV)  "
      ]
     },
     "execution_count": 16,
     "metadata": {},
     "output_type": "execute_result"
    }
   ],
   "source": [
    "kino_date = datetime.datetime.today() + datetime.timedelta(days=days_from_now)\n",
    "display(Markdown('# Program for _' + datetime.datetime.strftime(kino_date, '%A, %B %d, %Y') + '_'))\n",
    "kino_program"
   ]
  }
 ],
 "metadata": {
  "kernelspec": {
   "display_name": "Python 2",
   "language": "python",
   "name": "python2"
  },
  "language_info": {
   "codemirror_mode": {
    "name": "ipython",
    "version": 2
   },
   "file_extension": ".py",
   "mimetype": "text/x-python",
   "name": "python",
   "nbconvert_exporter": "python",
   "pygments_lexer": "ipython2",
   "version": "2.7.10"
  }
 },
 "nbformat": 4,
 "nbformat_minor": 0
}
