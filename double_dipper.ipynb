{
 "cells": [
  {
   "cell_type": "code",
   "execution_count": 15,
   "metadata": {
    "collapsed": true
   },
   "outputs": [],
   "source": [
    "import numpy as np\n",
    "import pandas as pd\n",
    "import datetime\n",
    "import time\n",
    "import itertools"
   ]
  },
  {
   "cell_type": "code",
   "execution_count": null,
   "metadata": {
    "collapsed": true
   },
   "outputs": [],
   "source": [
    "def str2time(string, time_format=\"%Y-%m-%d %H:%M\"):\n",
    "    output = datetime.datetime.strptime(string, time_format)\n",
    "    return time.mktime(output.timetuple())"
   ]
  },
  {
   "cell_type": "code",
   "execution_count": null,
   "metadata": {
    "collapsed": true
   },
   "outputs": [],
   "source": [
    "def initialize_movie_df(movie_name, start_times, duration):\n",
    "    duration_timedelta = datetime.timedelta(minutes=int(duration))\n",
    "    start_timedates = [datetime.datetime.strptime(x, '%H:%M') for x in start_times]\n",
    "    end_timedates = [x + duration_timedelta for x in start_timedates]\n",
    "    output = pd.DataFrame({'start_times':start_timedates,\\\n",
    "                           'end_times':end_timedates})\n",
    "    output['movie_name'] = movie_name\n",
    "    return(output)"
   ]
  },
  {
   "cell_type": "code",
   "execution_count": null,
   "metadata": {
    "collapsed": true
   },
   "outputs": [],
   "source": [
    "\"\"\"\n",
    "play around with datetime objects\n",
    "\n",
    "str2time(\"2015-10-17 14:50\")\n",
    "datetime.timedelta(hours = 1, minutes=20) + \\\n",
    "datetime.datetime(year=2015,month=10,day=17)\n",
    "\"\"\""
   ]
  },
  {
   "cell_type": "code",
   "execution_count": 76,
   "metadata": {
    "collapsed": true
   },
   "outputs": [
    {
     "name": "stdout",
     "output_type": "stream",
     "text": [
      "0\n",
      "1\n",
      "2\n",
      "3\n",
      "4\n",
      "5\n",
      "6\n",
      "7\n",
      "8\n",
      "9\n",
      "10\n",
      "11\n",
      "12\n",
      "13\n",
      "14\n",
      "15\n",
      "16\n"
     ]
    }
   ],
   "source": [
    "# make a kino program to test algorithm on\n",
    "\n",
    "the_martian = \\\n",
    "initialize_movie_df('the_martian',\\\n",
    "                    ['13:30', '16:50', '19:30', '23:10'],\\\n",
    "                    duration=144)\n",
    "\n",
    "sicario = initialize_movie_df('sicario', \\\n",
    "                              ['20:00', '23:10'], \\\n",
    "                              duration=121)\n",
    "\n",
    "alles_steht_kopf = initialize_movie_df('alles_steht_kopf', \\\n",
    "                                       ['14:20', '17:00'],\\\n",
    "                                       95)\n",
    "\n",
    "black_mass = initialize_movie_df('black_mass',\\\n",
    "                                ['19:50', '23:00'],\\\n",
    "                                123)\n",
    "\n",
    "hotel_transylvania = \\\n",
    "initialize_movie_df('hotel_transylvania', \\\n",
    "                    ['14:00', '16:40'],\\\n",
    "                   89)\n",
    "\n",
    "maze_runner = initialize_movie_df('maze_runner',\\\n",
    "                                 ['13:50'],\\\n",
    "                                 130)\n",
    "\n",
    "the_intern = initialize_movie_df('the_intern',\\\n",
    "                                ['17:00'],\\\n",
    "                                121)\n",
    "\n",
    "regression = initialize_movie_df('regression',\\\n",
    "                                ['22:30'],\n",
    "                                107)\n",
    "\n",
    "pan = initialize_movie_df('pan',\\\n",
    "                          ['14:40'],\\\n",
    "                          111)\n",
    "\n",
    "everest = initialize_movie_df('everest',\\\n",
    "                             ['22:00'],\\\n",
    "                             122)\n",
    "\n",
    "kino_program = the_martian.\\\n",
    "append(black_mass, ignore_index=True).\\\n",
    "append(hotel_transylvania, ignore_index=True).\\\n",
    "append(maze_runner, ignore_index=True).\\\n",
    "append(the_intern, ignore_index=True).\\\n",
    "append(regression, ignore_index=True).\\\n",
    "append(pan, ignore_index=True).\\\n",
    "append(everest, ignore_index=True).\\\n",
    "append(sicario, ignore_index=True).\\\n",
    "append(alles_steht_kopf, ignore_index=True)\n",
    "\n",
    "kino_program.sort('start_times',\\\n",
    "                  ascending=True,\\\n",
    "                 inplace=True)\n"
   ]
  },
  {
   "cell_type": "code",
   "execution_count": 285,
   "metadata": {
    "collapsed": false
   },
   "outputs": [],
   "source": [
    "def find_next_showings(movie_info, kino_program, waiting_time):\n",
    "    movie_name = movie_info.movie_name.iloc[0]\n",
    "    end_time = movie_info.end_times.iloc[0]\n",
    "    max_time = end_time + \\\n",
    "        datetime.timedelta(minutes=waiting_time)\n",
    "    row_filter = \\\n",
    "        (kino_program.movie_name != movie_name) & \\\n",
    "        (kino_program.start_times >= end_time) & \\\n",
    "        (kino_program.start_times <= max_time)\n",
    "    return kino_program[row_filter]\n",
    "\n",
    "def double_dip(starting_show, show_times, waiting_time):\n",
    "    show_times = show_times[show_times.movie_name != starting_show.movie_name.iloc[0]]\n",
    "    next_showtimes = find_next_showings(starting_show,show_times,waiting_time)\n",
    "    \n",
    "    node_info = starting_show.movie_name.iloc[0] + \\\n",
    "    \" (\" + starting_show.start_times.iloc[0].strftime(\"%H:%M\") + \\\n",
    "    \"-\" + starting_show.end_times.iloc[0].strftime(\"%H:%M\") + \")\"\n",
    "    \n",
    "    if next_showtimes.empty:\n",
    "        return node_info\n",
    "    \n",
    "    output = []\n",
    "    \n",
    "    for row in xrange(next_showtimes.shape[0]):\n",
    "        next_show = next_showtimes.iloc[[row]]\n",
    "        X = double_dip(next_show, show_times, waiting_time)\n",
    "        if isinstance(X, basestring):\n",
    "            tmp = node_info + \" -> \" + X\n",
    "            output.append(tmp)\n",
    "        else:\n",
    "            if isinstance(X[0], list):\n",
    "                X = [x for x in itertools.chain.from_iterable(X)]\n",
    "            tmp = [node_info + \" -> \" + ''.join(x) for x in X]\n",
    "            [output.append(x) for x in tmp]\n",
    "    \n",
    "    return output"
   ]
  },
  {
   "cell_type": "code",
   "execution_count": 293,
   "metadata": {
    "collapsed": false
   },
   "outputs": [
    {
     "data": {
      "text/plain": [
       "['the_martian (16:50-19:14) -> black_mass (19:50-21:53) -> everest (22:00-00:02)',\n",
       " 'the_martian (16:50-19:14) -> black_mass (19:50-21:53) -> regression (22:30-00:17)']"
      ]
     },
     "execution_count": 293,
     "metadata": {},
     "output_type": "execute_result"
    }
   ],
   "source": [
    "double_dip(kino_program.iloc[6:7], kino_program, 45)"
   ]
  },
  {
   "cell_type": "code",
   "execution_count": 225,
   "metadata": {
    "collapsed": true
   },
   "outputs": [
    {
     "data": {
      "text/html": [
       "<div>\n",
       "<table border=\"1\" class=\"dataframe\">\n",
       "  <thead>\n",
       "    <tr style=\"text-align: right;\">\n",
       "      <th></th>\n",
       "      <th>end_times</th>\n",
       "      <th>start_times</th>\n",
       "      <th>movie_name</th>\n",
       "    </tr>\n",
       "  </thead>\n",
       "  <tbody>\n",
       "    <tr>\n",
       "      <th>0</th>\n",
       "      <td>1900-01-01 15:54:00</td>\n",
       "      <td>1900-01-01 13:30:00</td>\n",
       "      <td>the_martian</td>\n",
       "    </tr>\n",
       "    <tr>\n",
       "      <th>8</th>\n",
       "      <td>1900-01-01 16:00:00</td>\n",
       "      <td>1900-01-01 13:50:00</td>\n",
       "      <td>maze_runner</td>\n",
       "    </tr>\n",
       "    <tr>\n",
       "      <th>6</th>\n",
       "      <td>1900-01-01 15:29:00</td>\n",
       "      <td>1900-01-01 14:00:00</td>\n",
       "      <td>hotel_transylvania</td>\n",
       "    </tr>\n",
       "    <tr>\n",
       "      <th>15</th>\n",
       "      <td>1900-01-01 15:55:00</td>\n",
       "      <td>1900-01-01 14:20:00</td>\n",
       "      <td>alles_steht_kopf</td>\n",
       "    </tr>\n",
       "    <tr>\n",
       "      <th>11</th>\n",
       "      <td>1900-01-01 16:31:00</td>\n",
       "      <td>1900-01-01 14:40:00</td>\n",
       "      <td>pan</td>\n",
       "    </tr>\n",
       "    <tr>\n",
       "      <th>7</th>\n",
       "      <td>1900-01-01 18:09:00</td>\n",
       "      <td>1900-01-01 16:40:00</td>\n",
       "      <td>hotel_transylvania</td>\n",
       "    </tr>\n",
       "    <tr>\n",
       "      <th>1</th>\n",
       "      <td>1900-01-01 19:14:00</td>\n",
       "      <td>1900-01-01 16:50:00</td>\n",
       "      <td>the_martian</td>\n",
       "    </tr>\n",
       "    <tr>\n",
       "      <th>9</th>\n",
       "      <td>1900-01-01 19:01:00</td>\n",
       "      <td>1900-01-01 17:00:00</td>\n",
       "      <td>the_intern</td>\n",
       "    </tr>\n",
       "    <tr>\n",
       "      <th>16</th>\n",
       "      <td>1900-01-01 18:35:00</td>\n",
       "      <td>1900-01-01 17:00:00</td>\n",
       "      <td>alles_steht_kopf</td>\n",
       "    </tr>\n",
       "    <tr>\n",
       "      <th>2</th>\n",
       "      <td>1900-01-01 21:54:00</td>\n",
       "      <td>1900-01-01 19:30:00</td>\n",
       "      <td>the_martian</td>\n",
       "    </tr>\n",
       "    <tr>\n",
       "      <th>4</th>\n",
       "      <td>1900-01-01 21:53:00</td>\n",
       "      <td>1900-01-01 19:50:00</td>\n",
       "      <td>black_mass</td>\n",
       "    </tr>\n",
       "    <tr>\n",
       "      <th>13</th>\n",
       "      <td>1900-01-01 22:01:00</td>\n",
       "      <td>1900-01-01 20:00:00</td>\n",
       "      <td>sicario</td>\n",
       "    </tr>\n",
       "    <tr>\n",
       "      <th>12</th>\n",
       "      <td>1900-01-02 00:02:00</td>\n",
       "      <td>1900-01-01 22:00:00</td>\n",
       "      <td>everest</td>\n",
       "    </tr>\n",
       "    <tr>\n",
       "      <th>10</th>\n",
       "      <td>1900-01-02 00:17:00</td>\n",
       "      <td>1900-01-01 22:30:00</td>\n",
       "      <td>regression</td>\n",
       "    </tr>\n",
       "    <tr>\n",
       "      <th>5</th>\n",
       "      <td>1900-01-02 01:03:00</td>\n",
       "      <td>1900-01-01 23:00:00</td>\n",
       "      <td>black_mass</td>\n",
       "    </tr>\n",
       "    <tr>\n",
       "      <th>3</th>\n",
       "      <td>1900-01-02 01:34:00</td>\n",
       "      <td>1900-01-01 23:10:00</td>\n",
       "      <td>the_martian</td>\n",
       "    </tr>\n",
       "    <tr>\n",
       "      <th>14</th>\n",
       "      <td>1900-01-02 01:11:00</td>\n",
       "      <td>1900-01-01 23:10:00</td>\n",
       "      <td>sicario</td>\n",
       "    </tr>\n",
       "  </tbody>\n",
       "</table>\n",
       "</div>"
      ],
      "text/plain": [
       "             end_times         start_times          movie_name\n",
       "0  1900-01-01 15:54:00 1900-01-01 13:30:00         the_martian\n",
       "8  1900-01-01 16:00:00 1900-01-01 13:50:00         maze_runner\n",
       "6  1900-01-01 15:29:00 1900-01-01 14:00:00  hotel_transylvania\n",
       "15 1900-01-01 15:55:00 1900-01-01 14:20:00    alles_steht_kopf\n",
       "11 1900-01-01 16:31:00 1900-01-01 14:40:00                 pan\n",
       "7  1900-01-01 18:09:00 1900-01-01 16:40:00  hotel_transylvania\n",
       "1  1900-01-01 19:14:00 1900-01-01 16:50:00         the_martian\n",
       "9  1900-01-01 19:01:00 1900-01-01 17:00:00          the_intern\n",
       "16 1900-01-01 18:35:00 1900-01-01 17:00:00    alles_steht_kopf\n",
       "2  1900-01-01 21:54:00 1900-01-01 19:30:00         the_martian\n",
       "4  1900-01-01 21:53:00 1900-01-01 19:50:00          black_mass\n",
       "13 1900-01-01 22:01:00 1900-01-01 20:00:00             sicario\n",
       "12 1900-01-02 00:02:00 1900-01-01 22:00:00             everest\n",
       "10 1900-01-02 00:17:00 1900-01-01 22:30:00          regression\n",
       "5  1900-01-02 01:03:00 1900-01-01 23:00:00          black_mass\n",
       "3  1900-01-02 01:34:00 1900-01-01 23:10:00         the_martian\n",
       "14 1900-01-02 01:11:00 1900-01-01 23:10:00             sicario"
      ]
     },
     "execution_count": 225,
     "metadata": {},
     "output_type": "execute_result"
    }
   ],
   "source": [
    "kino_program"
   ]
  },
  {
   "cell_type": "code",
   "execution_count": 203,
   "metadata": {
    "collapsed": false
   },
   "outputs": [
    {
     "name": "stdout",
     "output_type": "stream",
     "text": [
      "hotel_transylvania\n"
     ]
    }
   ],
   "source": [
    "\n",
    "starting_show = kino_program.iloc[0:1]\n",
    "show_times = kino_program\n",
    "\n",
    "next_showtimes = find_next_showings(starting_show,show_times,waiting_time)\n",
    "\n",
    "if next_showtimes.empty:\n",
    "    print starting_show.movie_name\n",
    "\n",
    "output = []\n",
    "tmp = [starting_show.movie_name]\n",
    "for row in xrange(next_showtimes.shape[0]):\n",
    "    next_show = next_showtimes.iloc[[row]]\n",
    "    #print(next_show)\n",
    "    #tmp2 = [tmp.append(x) for x in double_dip(next_show, show_times, waiting_time)]\n",
    "\n",
    "starting_show = next_show\n",
    "next_showtimes = find_next_showings(starting_show,show_times,waiting_time)\n",
    "\n",
    "if next_showtimes.empty:\n",
    "    print starting_show.movie_name.iloc[0]\n",
    "\n",
    "#next_show.movie_name.iloc[0]"
   ]
  },
  {
   "cell_type": "code",
   "execution_count": 153,
   "metadata": {
    "collapsed": true
   },
   "outputs": [
    {
     "data": {
      "text/plain": [
       "'\\na -> c -> b\\n|    e     d\\n\\nV = [a, b, c, d, e]\\nV.pop -> [a]\\na.neighbors -> [c]\\n-- for each neighbor of a ... --\\n\\nc.neighbors -> [b, d]\\nb.neighbors -> []\\nreturn b\\nd.neighbors -> []\\nreturn d\\npre-pend c to returns -> [[c,b], [c,d]]\\n\\ne.neighbors -> []\\nreturn e\\n\\npre-pend a to returns [[a,c,b],[a,c,d]]\\n\\ndef f(v):\\n    if neighbors.empty:\\n    return v\\n    else:\\n    return [v.prepend(f(x)) for x in v.neighbors]\\n\\n\\nstart at a node\\ngather neighbors in a stack\\npop neighbor in visited\\n\\n'"
      ]
     },
     "execution_count": 153,
     "metadata": {},
     "output_type": "execute_result"
    }
   ],
   "source": [
    "\"\"\"\n",
    "a -> c -> b\n",
    "|    \\\n",
    "e     d\n",
    "\n",
    "V = [a, b, c, d, e]\n",
    "V.pop -> [a]\n",
    "a.neighbors -> [c]\n",
    "-- for each neighbor of a ... --\n",
    "\n",
    "c.neighbors -> [b, d]\n",
    "b.neighbors -> []\n",
    "return b\n",
    "d.neighbors -> []\n",
    "return d\n",
    "pre-pend c to returns -> [[c,b], [c,d]]\n",
    "\n",
    "e.neighbors -> []\n",
    "return e\n",
    "\n",
    "pre-pend a to returns [[a,c,b],[a,c,d]]\n",
    "\n",
    "def f(v):\n",
    "    if neighbors.empty:\n",
    "    return v\n",
    "    else:\n",
    "    return [v.prepend(f(x)) for x in v.neighbors]\n",
    "\n",
    "\n",
    "start at a node\n",
    "gather neighbors in a stack\n",
    "pop neighbor in visited\n",
    "\n",
    "\"\"\""
   ]
  },
  {
   "cell_type": "code",
   "execution_count": 150,
   "metadata": {
    "collapsed": false
   },
   "outputs": [
    {
     "name": "stdout",
     "output_type": "stream",
     "text": [
      "****\n",
      "the_martian: 13:30 -> 15:54\n",
      "            end_times         start_times   movie_name\n",
      "0 1900-01-01 15:54:00 1900-01-01 13:30:00  the_martian\n",
      "Empty DataFrame\n",
      "Columns: [end_times, start_times, movie_name]\n",
      "Index: []\n",
      "            end_times         start_times   movie_name\n",
      "0 1900-01-01 15:54:00 1900-01-01 13:30:00  the_martian\n"
     ]
    }
   ],
   "source": [
    "\n",
    "\n",
    "\n",
    "\n",
    "# remove all movies with the same name\n",
    "# remove all moves outside the waiting scope\n",
    "# return a dictionary with valid branches\n",
    "waiting_time = 1\n",
    "catch = []\n",
    "for row in kino_program.iloc[[0]].itertuples():\n",
    "    output = kino_program.iloc[row[0]:(row[0]+1)]\n",
    "    \n",
    "    new_program = find_next_showings(row[1:],\\\n",
    "                                    kino_program,\\\n",
    "                                    waiting_time)\n",
    "    \n",
    "    if new_program.empty:\n",
    "        continue\n",
    "    \n",
    "    output.append(new_program.iloc[0:1], ignore_index=True)\n",
    "    \n",
    "    catch.append(output)\n",
    "    \n",
    "    \"\"\"for shows in new_program.itertuples():\n",
    "        find_next_showings(shows[1:],\\\n",
    "                           kino_program,\\\n",
    "                           waiting_time)\n",
    "    \"\"\"    \n",
    "    \n",
    "        \n",
    "    print(\"****\")\n",
    "    print(row[3] + \": \" + \\\n",
    "          row[2].strftime(\"%H:%M\") + \" -> \" + \\\n",
    "          row[1].strftime(\"%H:%M\"))\n",
    "    print(output)\n",
    "    print(new_program.head(0))\n",
    "    #print(new_program[['movie_name', 'start_times']])\n",
    "    #print(row)\n",
    "\n",
    "#print(type(catch[0]))\n",
    "print(catch[0])"
   ]
  },
  {
   "cell_type": "code",
   "execution_count": 103,
   "metadata": {
    "collapsed": true
   },
   "outputs": [],
   "source": []
  },
  {
   "cell_type": "code",
   "execution_count": 151,
   "metadata": {
    "collapsed": false
   },
   "outputs": [],
   "source": [
    "pd.DataFrame.append?"
   ]
  }
 ],
 "metadata": {
  "kernelspec": {
   "display_name": "Python 2",
   "language": "python",
   "name": "python2"
  },
  "language_info": {
   "codemirror_mode": {
    "name": "ipython",
    "version": 2
   },
   "file_extension": ".py",
   "mimetype": "text/x-python",
   "name": "python",
   "nbconvert_exporter": "python",
   "pygments_lexer": "ipython2",
   "version": "2.7.10"
  }
 },
 "nbformat": 4,
 "nbformat_minor": 0
}
