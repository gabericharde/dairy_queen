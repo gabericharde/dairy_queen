{
 "cells": [
  {
   "cell_type": "code",
   "execution_count": 1,
   "metadata": {
    "collapsed": false
   },
   "outputs": [],
   "source": [
    "import numpy as np\n",
    "import pandas as pd\n",
    "import datetime\n",
    "import time\n",
    "import itertools\n",
    "import json\n",
    "import urllib\n",
    "import double_dip\n",
    "import re\n",
    "from IPython.display import Markdown, display"
   ]
  },
  {
   "cell_type": "markdown",
   "metadata": {},
   "source": [
    "# ↘ Start here! ↙\n",
    "\n",
    "\n",
    "### Parameters:\n",
    "- `days_from_now` -- an integer value between 0 and 4. This will dictate which showtimes are retrieved.\n",
    "- `ads_mins` -- an integer value indicating how many minutes of ads you think are run before each movie. My experience with Cinestar says that ~ 10 minutes of ads is what you'll experience.\n",
    "- `trailers_mins` -- an integer value indicating how many minutes of trailers you think will be run before each movie. This varies between Movies and Cinemas... I tried to set the default to something reasonable (10 minutes).\n",
    "- `max_waiting_mins` -- an integer value indicating how long you're willing to wait between the (estimated) end of a film and and the start time of the next film. \n",
    "- `acceptable_overlap_mins` -- an integer value indicating how much overlap between the end of a film and the start of the next film is 'acceptable'. Set this value to something above 0 when you're willing to miss the last bit of a  film, or the start of another film.\n",
    "- `movies_to_exclude` -- A string or list of strings giving partial matches of titles of movies you're _NOT_ interesting in seeing. E.g., `['Alles', 'Mars']` will partially match to _Alles Steht Kopf_ and _Der Marsianer - Rettet Mark Watney_, and thus both films will be excluded from any double dip considerations.\n",
    "- `interesting_movies`-- A string or list of strings giving partial matches of titles of movies you _ARE_ interested in seeing.\n",
    "- `all_interesting_movies_must_be_in_dip` -- a boolean indicating how calculated double dips should be filtered, in the presence of `interesting_movies`. E.g. if\n",
    "    ```\n",
    "    interesting_movies = ['Spec', 'Der']\n",
    "    ```\n",
    "    and `all_interesting_movies_must_be_in_dip=True`, then only dips that include matches for \"Spec\" and \"Der\" will be included. If `all_interesting_movies_must_be_in_dip=False` included dips only have to match at least one of \"Spec\", or \"Der\". \n",
    "    \n",
    "### Notes\n",
    "- Once you've tweaked your parameters, just goto the `Cell` menu and select `Run All`\n",
    "- If you need to _re-run_ the program, ***do not*** re-`Run All`. Instead:\n",
    "    1. re-run the cell with all the parameters\n",
    "    2. goto the cell with `double_dip.find_all_double_dips` (the cell above the 'Double Dips' section), and re-run that\n",
    "  \n",
    "  If you don't do this, you'll have to wait around will the program REscrapes showtime information, which is needlessly redundant.\n"
   ]
  },
  {
   "cell_type": "code",
   "execution_count": 2,
   "metadata": {
    "collapsed": true
   },
   "outputs": [],
   "source": [
    "days_from_now = 3\n",
    "ads_mins=10\n",
    "trailers_mins=10\n",
    "max_waiting_mins=45\n",
    "acceptable_overlap_mins=0\n",
    "movies_to_exclude=['Alle', 'Der'] #set to None to disable\n",
    "interesting_movies=['Spec'] # set to None to disable\n",
    "all_interesting_movies_must_be_in_dip=False # consider any dip that has at least one of the interesting movies"
   ]
  },
  {
   "cell_type": "markdown",
   "metadata": {},
   "source": [
    "# ↗ Start here! ↖\n",
    "\n",
    "<br/>\n",
    "_Now go to `Cell`, and click `Run All`..._\n"
   ]
  },
  {
   "cell_type": "code",
   "execution_count": 3,
   "metadata": {
    "collapsed": true
   },
   "outputs": [],
   "source": [
    "# hit kimono-made Cinestar showtimes API\n",
    "api_endpoint = 'http://www.kimonolabs.com/api/ondemand/9q0fwoh2?kimmodify=1&date=' + str(days_from_now)\n",
    "results = json.load(urllib.urlopen(api_endpoint))"
   ]
  },
  {
   "cell_type": "code",
   "execution_count": 4,
   "metadata": {
    "collapsed": false
   },
   "outputs": [],
   "source": [
    "if not results['results']:\n",
    "    display(Markdown('## _Error:_ Either there are no showings for your day, or you\\'ve hit the API too many times...'+\\\n",
    "                     ' Try changing `days_from_now` and re-running?...'))\n",
    "    print results\n",
    "\n",
    "kino_program = double_dip.make_showtimes(results,\n",
    "                                         ads_mins=ads_mins,\n",
    "                                         trailers_mins=trailers_mins)"
   ]
  },
  {
   "cell_type": "code",
   "execution_count": 5,
   "metadata": {
    "collapsed": true
   },
   "outputs": [],
   "source": [
    "double_dips = \\\n",
    "double_dip.find_all_double_dips(kino_program,\n",
    "                                max_waiting_mins=max_waiting_mins,\n",
    "                                acceptable_overlap_mins=acceptable_overlap_mins,\n",
    "                                movies_to_exclude=movies_to_exclude,\n",
    "                                interesting_movies=interesting_movies,\n",
    "                                all_interesting_movies_must_be_in_dip=all_interesting_movies_must_be_in_dip)"
   ]
  },
  {
   "cell_type": "markdown",
   "metadata": {},
   "source": [
    "# Double Dips:"
   ]
  },
  {
   "cell_type": "code",
   "execution_count": 6,
   "metadata": {
    "collapsed": false
   },
   "outputs": [
    {
     "data": {
      "text/markdown": [
       "- Hotel Transsilvanien 2 (OV) (13:30-15:20) -> Spectre (OV) (15:00-17:48) -> Irrational Man (OV) (17:30-19:25) -> Steve Jobs (OV) (19:30-21:53)"
      ],
      "text/plain": [
       "<IPython.core.display.Markdown object>"
      ]
     },
     "metadata": {},
     "output_type": "display_data"
    },
    {
     "data": {
      "text/markdown": [
       "- Hotel Transsilvanien 2 (OV) (13:30-15:20) -> Spectre (OV) (15:00-17:48) -> Irrational Man (OV) (17:30-19:25) -> Macbeth (OV) (19:30-21:43)"
      ],
      "text/plain": [
       "<IPython.core.display.Markdown object>"
      ]
     },
     "metadata": {},
     "output_type": "display_data"
    },
    {
     "data": {
      "text/markdown": [
       "- Irrational Man (OV) (17:30-19:25) -> Steve Jobs (OV) (19:30-21:53) -> Spectre (OV) (21:45-00:33)"
      ],
      "text/plain": [
       "<IPython.core.display.Markdown object>"
      ]
     },
     "metadata": {},
     "output_type": "display_data"
    },
    {
     "data": {
      "text/markdown": [
       "- Irrational Man (OV) (17:30-19:25) -> Macbeth (OV) (19:30-21:43) -> Spectre (OV) (21:45-00:33)"
      ],
      "text/plain": [
       "<IPython.core.display.Markdown object>"
      ]
     },
     "metadata": {},
     "output_type": "display_data"
    },
    {
     "data": {
      "text/markdown": [
       "- Irrational Man (OV) (20:20-22:15) -> Spectre (OV) (22:30-01:18)"
      ],
      "text/plain": [
       "<IPython.core.display.Markdown object>"
      ]
     },
     "metadata": {},
     "output_type": "display_data"
    },
    {
     "data": {
      "text/markdown": [
       "- Crimson Peak (OV) (13:30-15:49) -> Spectre (OV) (16:00-18:48)"
      ],
      "text/plain": [
       "<IPython.core.display.Markdown object>"
      ]
     },
     "metadata": {},
     "output_type": "display_data"
    },
    {
     "data": {
      "text/markdown": [
       "- Steve Jobs (OV) (16:30-18:53) -> Spectre (OV) (19:00-21:48)"
      ],
      "text/plain": [
       "<IPython.core.display.Markdown object>"
      ]
     },
     "metadata": {},
     "output_type": "display_data"
    },
    {
     "data": {
      "text/markdown": [
       "- Steve Jobs (OV) (19:30-21:53) -> Spectre (OV) (21:45-00:33)"
      ],
      "text/plain": [
       "<IPython.core.display.Markdown object>"
      ]
     },
     "metadata": {},
     "output_type": "display_data"
    },
    {
     "data": {
      "text/markdown": [
       "- Er ist wieder da (OmU) (16:30-18:46) -> Spectre (OV) (19:00-21:48)"
      ],
      "text/plain": [
       "<IPython.core.display.Markdown object>"
      ]
     },
     "metadata": {},
     "output_type": "display_data"
    },
    {
     "data": {
      "text/markdown": [
       "- Macbeth (OV) (13:30-15:43) -> Spectre (OV) (16:00-18:48)"
      ],
      "text/plain": [
       "<IPython.core.display.Markdown object>"
      ]
     },
     "metadata": {},
     "output_type": "display_data"
    },
    {
     "data": {
      "text/markdown": [
       "- Macbeth (OV) (19:30-21:43) -> Spectre (OV) (21:45-00:33)"
      ],
      "text/plain": [
       "<IPython.core.display.Markdown object>"
      ]
     },
     "metadata": {},
     "output_type": "display_data"
    },
    {
     "data": {
      "text/markdown": [
       "- The Walk (OV) (16:20-18:43) -> Spectre (OV) (19:00-21:48)"
      ],
      "text/plain": [
       "<IPython.core.display.Markdown object>"
      ]
     },
     "metadata": {},
     "output_type": "display_data"
    },
    {
     "data": {
      "text/markdown": [
       "- Spectre (OV) (14:00-16:48) -> Steve Jobs (OV) (16:30-18:53)"
      ],
      "text/plain": [
       "<IPython.core.display.Markdown object>"
      ]
     },
     "metadata": {},
     "output_type": "display_data"
    },
    {
     "data": {
      "text/markdown": [
       "- Spectre (OV) (14:00-16:48) -> Er ist wieder da (OmU) (16:30-18:46)"
      ],
      "text/plain": [
       "<IPython.core.display.Markdown object>"
      ]
     },
     "metadata": {},
     "output_type": "display_data"
    },
    {
     "data": {
      "text/markdown": [
       "- Spectre (OV) (15:00-17:48) -> Irrational Man (OV) (17:30-19:25) -> Steve Jobs (OV) (19:30-21:53)"
      ],
      "text/plain": [
       "<IPython.core.display.Markdown object>"
      ]
     },
     "metadata": {},
     "output_type": "display_data"
    },
    {
     "data": {
      "text/markdown": [
       "- Spectre (OV) (15:00-17:48) -> Irrational Man (OV) (17:30-19:25) -> Macbeth (OV) (19:30-21:43)"
      ],
      "text/plain": [
       "<IPython.core.display.Markdown object>"
      ]
     },
     "metadata": {},
     "output_type": "display_data"
    },
    {
     "data": {
      "text/markdown": [
       "- Spectre (OV) (16:00-18:48)"
      ],
      "text/plain": [
       "<IPython.core.display.Markdown object>"
      ]
     },
     "metadata": {},
     "output_type": "display_data"
    },
    {
     "data": {
      "text/markdown": [
       "- Spectre (OV) (17:00-19:48) -> Steve Jobs (OV) (19:30-21:53)"
      ],
      "text/plain": [
       "<IPython.core.display.Markdown object>"
      ]
     },
     "metadata": {},
     "output_type": "display_data"
    },
    {
     "data": {
      "text/markdown": [
       "- Spectre (OV) (17:00-19:48) -> Macbeth (OV) (19:30-21:43)"
      ],
      "text/plain": [
       "<IPython.core.display.Markdown object>"
      ]
     },
     "metadata": {},
     "output_type": "display_data"
    },
    {
     "data": {
      "text/markdown": [
       "- Spectre (OV) (18:00-20:48)"
      ],
      "text/plain": [
       "<IPython.core.display.Markdown object>"
      ]
     },
     "metadata": {},
     "output_type": "display_data"
    },
    {
     "data": {
      "text/markdown": [
       "- Spectre (OV) (19:00-21:48)"
      ],
      "text/plain": [
       "<IPython.core.display.Markdown object>"
      ]
     },
     "metadata": {},
     "output_type": "display_data"
    },
    {
     "data": {
      "text/markdown": [
       "- Spectre (OV) (20:00-22:48) -> Steve Jobs (OV) (22:45-01:08)"
      ],
      "text/plain": [
       "<IPython.core.display.Markdown object>"
      ]
     },
     "metadata": {},
     "output_type": "display_data"
    },
    {
     "data": {
      "text/markdown": [
       "- Spectre (OV) (20:00-22:48) -> Black Mass (OV) (23:00-01:23)"
      ],
      "text/plain": [
       "<IPython.core.display.Markdown object>"
      ]
     },
     "metadata": {},
     "output_type": "display_data"
    },
    {
     "data": {
      "text/markdown": [
       "- Spectre (OV) (20:00-22:48) -> Sicario (OV) (23:00-01:22)"
      ],
      "text/plain": [
       "<IPython.core.display.Markdown object>"
      ]
     },
     "metadata": {},
     "output_type": "display_data"
    },
    {
     "data": {
      "text/markdown": [
       "- Spectre (OV) (20:45-23:33)"
      ],
      "text/plain": [
       "<IPython.core.display.Markdown object>"
      ]
     },
     "metadata": {},
     "output_type": "display_data"
    },
    {
     "data": {
      "text/markdown": [
       "- Spectre (OV) (21:45-00:33)"
      ],
      "text/plain": [
       "<IPython.core.display.Markdown object>"
      ]
     },
     "metadata": {},
     "output_type": "display_data"
    },
    {
     "data": {
      "text/markdown": [
       "- Spectre (OV) (22:30-01:18)"
      ],
      "text/plain": [
       "<IPython.core.display.Markdown object>"
      ]
     },
     "metadata": {},
     "output_type": "display_data"
    },
    {
     "data": {
      "text/markdown": [
       "- Spectre (OV) (23:00-01:48)"
      ],
      "text/plain": [
       "<IPython.core.display.Markdown object>"
      ]
     },
     "metadata": {},
     "output_type": "display_data"
    }
   ],
   "source": [
    "tmp = [display(Markdown('- ' + dip)) for dip in double_dips] "
   ]
  },
  {
   "cell_type": "code",
   "execution_count": 7,
   "metadata": {
    "collapsed": false
   },
   "outputs": [
    {
     "data": {
      "text/markdown": [
       "# kino program for Sunday, 11/15/15"
      ],
      "text/plain": [
       "<IPython.core.display.Markdown object>"
      ]
     },
     "metadata": {},
     "output_type": "display_data"
    },
    {
     "data": {
      "text/html": [
       "<div>\n",
       "<table border=\"1\" class=\"dataframe\">\n",
       "  <thead>\n",
       "    <tr style=\"text-align: right;\">\n",
       "      <th></th>\n",
       "      <th>movie_end_time</th>\n",
       "      <th>movie_start_time</th>\n",
       "      <th>start_time</th>\n",
       "      <th>title</th>\n",
       "    </tr>\n",
       "  </thead>\n",
       "  <tbody>\n",
       "    <tr>\n",
       "      <th>0</th>\n",
       "      <td>1900-01-01 15:20:00</td>\n",
       "      <td>1900-01-01 13:50:00</td>\n",
       "      <td>1900-01-01 13:30:00</td>\n",
       "      <td>Hotel Transsilvanien 2 (OV)</td>\n",
       "    </tr>\n",
       "    <tr>\n",
       "      <th>1</th>\n",
       "      <td>1900-01-01 19:25:00</td>\n",
       "      <td>1900-01-01 17:50:00</td>\n",
       "      <td>1900-01-01 17:30:00</td>\n",
       "      <td>Irrational Man (OV)</td>\n",
       "    </tr>\n",
       "    <tr>\n",
       "      <th>2</th>\n",
       "      <td>1900-01-01 22:15:00</td>\n",
       "      <td>1900-01-01 20:40:00</td>\n",
       "      <td>1900-01-01 20:20:00</td>\n",
       "      <td>Irrational Man (OV)</td>\n",
       "    </tr>\n",
       "    <tr>\n",
       "      <th>3</th>\n",
       "      <td>1900-01-01 15:49:00</td>\n",
       "      <td>1900-01-01 13:50:00</td>\n",
       "      <td>1900-01-01 13:30:00</td>\n",
       "      <td>Crimson Peak (OV)</td>\n",
       "    </tr>\n",
       "    <tr>\n",
       "      <th>4</th>\n",
       "      <td>1900-01-01 18:53:00</td>\n",
       "      <td>1900-01-01 16:50:00</td>\n",
       "      <td>1900-01-01 16:30:00</td>\n",
       "      <td>Steve Jobs (OV)</td>\n",
       "    </tr>\n",
       "    <tr>\n",
       "      <th>5</th>\n",
       "      <td>1900-01-01 21:53:00</td>\n",
       "      <td>1900-01-01 19:50:00</td>\n",
       "      <td>1900-01-01 19:30:00</td>\n",
       "      <td>Steve Jobs (OV)</td>\n",
       "    </tr>\n",
       "    <tr>\n",
       "      <th>6</th>\n",
       "      <td>1900-01-02 01:08:00</td>\n",
       "      <td>1900-01-01 23:05:00</td>\n",
       "      <td>1900-01-01 22:45:00</td>\n",
       "      <td>Steve Jobs (OV)</td>\n",
       "    </tr>\n",
       "    <tr>\n",
       "      <th>7</th>\n",
       "      <td>1900-01-01 16:14:00</td>\n",
       "      <td>1900-01-01 13:50:00</td>\n",
       "      <td>1900-01-01 13:30:00</td>\n",
       "      <td>Der Marsianer - Rettet Mark Watney (OV)</td>\n",
       "    </tr>\n",
       "    <tr>\n",
       "      <th>8</th>\n",
       "      <td>1900-01-01 22:14:00</td>\n",
       "      <td>1900-01-01 19:50:00</td>\n",
       "      <td>1900-01-01 19:30:00</td>\n",
       "      <td>Der Marsianer - Rettet Mark Watney (OV)</td>\n",
       "    </tr>\n",
       "    <tr>\n",
       "      <th>9</th>\n",
       "      <td>1900-01-02 01:23:00</td>\n",
       "      <td>1900-01-01 23:20:00</td>\n",
       "      <td>1900-01-01 23:00:00</td>\n",
       "      <td>Black Mass (OV)</td>\n",
       "    </tr>\n",
       "    <tr>\n",
       "      <th>10</th>\n",
       "      <td>1900-01-01 18:46:00</td>\n",
       "      <td>1900-01-01 16:50:00</td>\n",
       "      <td>1900-01-01 16:30:00</td>\n",
       "      <td>Er ist wieder da (OmU)</td>\n",
       "    </tr>\n",
       "    <tr>\n",
       "      <th>11</th>\n",
       "      <td>1900-01-01 15:43:00</td>\n",
       "      <td>1900-01-01 13:50:00</td>\n",
       "      <td>1900-01-01 13:30:00</td>\n",
       "      <td>Macbeth (OV)</td>\n",
       "    </tr>\n",
       "    <tr>\n",
       "      <th>12</th>\n",
       "      <td>1900-01-01 21:43:00</td>\n",
       "      <td>1900-01-01 19:50:00</td>\n",
       "      <td>1900-01-01 19:30:00</td>\n",
       "      <td>Macbeth (OV)</td>\n",
       "    </tr>\n",
       "    <tr>\n",
       "      <th>13</th>\n",
       "      <td>1900-01-01 18:43:00</td>\n",
       "      <td>1900-01-01 16:40:00</td>\n",
       "      <td>1900-01-01 16:20:00</td>\n",
       "      <td>The Walk (OV)</td>\n",
       "    </tr>\n",
       "    <tr>\n",
       "      <th>14</th>\n",
       "      <td>1900-01-02 01:22:00</td>\n",
       "      <td>1900-01-01 23:20:00</td>\n",
       "      <td>1900-01-01 23:00:00</td>\n",
       "      <td>Sicario (OV)</td>\n",
       "    </tr>\n",
       "    <tr>\n",
       "      <th>15</th>\n",
       "      <td>1900-01-01 15:25:00</td>\n",
       "      <td>1900-01-01 13:50:00</td>\n",
       "      <td>1900-01-01 13:30:00</td>\n",
       "      <td>Alles steht Kopf (OV)</td>\n",
       "    </tr>\n",
       "    <tr>\n",
       "      <th>16</th>\n",
       "      <td>1900-01-01 16:40:00</td>\n",
       "      <td>1900-01-01 15:05:00</td>\n",
       "      <td>1900-01-01 14:45:00</td>\n",
       "      <td>Alles steht Kopf (OV)</td>\n",
       "    </tr>\n",
       "    <tr>\n",
       "      <th>17</th>\n",
       "      <td>1900-01-01 16:48:00</td>\n",
       "      <td>1900-01-01 14:20:00</td>\n",
       "      <td>1900-01-01 14:00:00</td>\n",
       "      <td>Spectre (OV)</td>\n",
       "    </tr>\n",
       "    <tr>\n",
       "      <th>18</th>\n",
       "      <td>1900-01-01 17:48:00</td>\n",
       "      <td>1900-01-01 15:20:00</td>\n",
       "      <td>1900-01-01 15:00:00</td>\n",
       "      <td>Spectre (OV)</td>\n",
       "    </tr>\n",
       "    <tr>\n",
       "      <th>19</th>\n",
       "      <td>1900-01-01 18:48:00</td>\n",
       "      <td>1900-01-01 16:20:00</td>\n",
       "      <td>1900-01-01 16:00:00</td>\n",
       "      <td>Spectre (OV)</td>\n",
       "    </tr>\n",
       "    <tr>\n",
       "      <th>20</th>\n",
       "      <td>1900-01-01 19:48:00</td>\n",
       "      <td>1900-01-01 17:20:00</td>\n",
       "      <td>1900-01-01 17:00:00</td>\n",
       "      <td>Spectre (OV)</td>\n",
       "    </tr>\n",
       "    <tr>\n",
       "      <th>21</th>\n",
       "      <td>1900-01-01 20:48:00</td>\n",
       "      <td>1900-01-01 18:20:00</td>\n",
       "      <td>1900-01-01 18:00:00</td>\n",
       "      <td>Spectre (OV)</td>\n",
       "    </tr>\n",
       "    <tr>\n",
       "      <th>22</th>\n",
       "      <td>1900-01-01 21:48:00</td>\n",
       "      <td>1900-01-01 19:20:00</td>\n",
       "      <td>1900-01-01 19:00:00</td>\n",
       "      <td>Spectre (OV)</td>\n",
       "    </tr>\n",
       "    <tr>\n",
       "      <th>23</th>\n",
       "      <td>1900-01-01 22:48:00</td>\n",
       "      <td>1900-01-01 20:20:00</td>\n",
       "      <td>1900-01-01 20:00:00</td>\n",
       "      <td>Spectre (OV)</td>\n",
       "    </tr>\n",
       "    <tr>\n",
       "      <th>24</th>\n",
       "      <td>1900-01-01 23:33:00</td>\n",
       "      <td>1900-01-01 21:05:00</td>\n",
       "      <td>1900-01-01 20:45:00</td>\n",
       "      <td>Spectre (OV)</td>\n",
       "    </tr>\n",
       "    <tr>\n",
       "      <th>25</th>\n",
       "      <td>1900-01-02 00:33:00</td>\n",
       "      <td>1900-01-01 22:05:00</td>\n",
       "      <td>1900-01-01 21:45:00</td>\n",
       "      <td>Spectre (OV)</td>\n",
       "    </tr>\n",
       "    <tr>\n",
       "      <th>26</th>\n",
       "      <td>1900-01-02 01:18:00</td>\n",
       "      <td>1900-01-01 22:50:00</td>\n",
       "      <td>1900-01-01 22:30:00</td>\n",
       "      <td>Spectre (OV)</td>\n",
       "    </tr>\n",
       "    <tr>\n",
       "      <th>27</th>\n",
       "      <td>1900-01-02 01:48:00</td>\n",
       "      <td>1900-01-01 23:20:00</td>\n",
       "      <td>1900-01-01 23:00:00</td>\n",
       "      <td>Spectre (OV)</td>\n",
       "    </tr>\n",
       "  </tbody>\n",
       "</table>\n",
       "</div>"
      ],
      "text/plain": [
       "        movie_end_time    movie_start_time          start_time  \\\n",
       "0  1900-01-01 15:20:00 1900-01-01 13:50:00 1900-01-01 13:30:00   \n",
       "1  1900-01-01 19:25:00 1900-01-01 17:50:00 1900-01-01 17:30:00   \n",
       "2  1900-01-01 22:15:00 1900-01-01 20:40:00 1900-01-01 20:20:00   \n",
       "3  1900-01-01 15:49:00 1900-01-01 13:50:00 1900-01-01 13:30:00   \n",
       "4  1900-01-01 18:53:00 1900-01-01 16:50:00 1900-01-01 16:30:00   \n",
       "5  1900-01-01 21:53:00 1900-01-01 19:50:00 1900-01-01 19:30:00   \n",
       "6  1900-01-02 01:08:00 1900-01-01 23:05:00 1900-01-01 22:45:00   \n",
       "7  1900-01-01 16:14:00 1900-01-01 13:50:00 1900-01-01 13:30:00   \n",
       "8  1900-01-01 22:14:00 1900-01-01 19:50:00 1900-01-01 19:30:00   \n",
       "9  1900-01-02 01:23:00 1900-01-01 23:20:00 1900-01-01 23:00:00   \n",
       "10 1900-01-01 18:46:00 1900-01-01 16:50:00 1900-01-01 16:30:00   \n",
       "11 1900-01-01 15:43:00 1900-01-01 13:50:00 1900-01-01 13:30:00   \n",
       "12 1900-01-01 21:43:00 1900-01-01 19:50:00 1900-01-01 19:30:00   \n",
       "13 1900-01-01 18:43:00 1900-01-01 16:40:00 1900-01-01 16:20:00   \n",
       "14 1900-01-02 01:22:00 1900-01-01 23:20:00 1900-01-01 23:00:00   \n",
       "15 1900-01-01 15:25:00 1900-01-01 13:50:00 1900-01-01 13:30:00   \n",
       "16 1900-01-01 16:40:00 1900-01-01 15:05:00 1900-01-01 14:45:00   \n",
       "17 1900-01-01 16:48:00 1900-01-01 14:20:00 1900-01-01 14:00:00   \n",
       "18 1900-01-01 17:48:00 1900-01-01 15:20:00 1900-01-01 15:00:00   \n",
       "19 1900-01-01 18:48:00 1900-01-01 16:20:00 1900-01-01 16:00:00   \n",
       "20 1900-01-01 19:48:00 1900-01-01 17:20:00 1900-01-01 17:00:00   \n",
       "21 1900-01-01 20:48:00 1900-01-01 18:20:00 1900-01-01 18:00:00   \n",
       "22 1900-01-01 21:48:00 1900-01-01 19:20:00 1900-01-01 19:00:00   \n",
       "23 1900-01-01 22:48:00 1900-01-01 20:20:00 1900-01-01 20:00:00   \n",
       "24 1900-01-01 23:33:00 1900-01-01 21:05:00 1900-01-01 20:45:00   \n",
       "25 1900-01-02 00:33:00 1900-01-01 22:05:00 1900-01-01 21:45:00   \n",
       "26 1900-01-02 01:18:00 1900-01-01 22:50:00 1900-01-01 22:30:00   \n",
       "27 1900-01-02 01:48:00 1900-01-01 23:20:00 1900-01-01 23:00:00   \n",
       "\n",
       "                                      title  \n",
       "0               Hotel Transsilvanien 2 (OV)  \n",
       "1                       Irrational Man (OV)  \n",
       "2                       Irrational Man (OV)  \n",
       "3                         Crimson Peak (OV)  \n",
       "4                           Steve Jobs (OV)  \n",
       "5                           Steve Jobs (OV)  \n",
       "6                           Steve Jobs (OV)  \n",
       "7   Der Marsianer - Rettet Mark Watney (OV)  \n",
       "8   Der Marsianer - Rettet Mark Watney (OV)  \n",
       "9                           Black Mass (OV)  \n",
       "10                   Er ist wieder da (OmU)  \n",
       "11                             Macbeth (OV)  \n",
       "12                             Macbeth (OV)  \n",
       "13                            The Walk (OV)  \n",
       "14                             Sicario (OV)  \n",
       "15                    Alles steht Kopf (OV)  \n",
       "16                    Alles steht Kopf (OV)  \n",
       "17                             Spectre (OV)  \n",
       "18                             Spectre (OV)  \n",
       "19                             Spectre (OV)  \n",
       "20                             Spectre (OV)  \n",
       "21                             Spectre (OV)  \n",
       "22                             Spectre (OV)  \n",
       "23                             Spectre (OV)  \n",
       "24                             Spectre (OV)  \n",
       "25                             Spectre (OV)  \n",
       "26                             Spectre (OV)  \n",
       "27                             Spectre (OV)  "
      ]
     },
     "execution_count": 7,
     "metadata": {},
     "output_type": "execute_result"
    }
   ],
   "source": [
    "kino_date = datetime.datetime.today() + datetime.timedelta(days=days_from_now)\n",
    "display(Markdown('# kino program for ' + datetime.datetime.strftime(kino_date, '%A, %D')))\n",
    "kino_program"
   ]
  },
  {
   "cell_type": "code",
   "execution_count": null,
   "metadata": {
    "collapsed": true
   },
   "outputs": [],
   "source": []
  }
 ],
 "metadata": {
  "kernelspec": {
   "display_name": "Python 2",
   "language": "python",
   "name": "python2"
  },
  "language_info": {
   "codemirror_mode": {
    "name": "ipython",
    "version": 2
   },
   "file_extension": ".py",
   "mimetype": "text/x-python",
   "name": "python",
   "nbconvert_exporter": "python",
   "pygments_lexer": "ipython2",
   "version": "2.7.10"
  }
 },
 "nbformat": 4,
 "nbformat_minor": 0
}
